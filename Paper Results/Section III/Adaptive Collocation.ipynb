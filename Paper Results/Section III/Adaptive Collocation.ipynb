{
 "cells": [
  {
   "cell_type": "markdown",
   "id": "075668f2-50b7-45d2-8946-ae4a4c022891",
   "metadata": {},
   "source": [
    "# Adaptive Collocation Sampling"
   ]
  },
  {
   "cell_type": "markdown",
   "id": "6a34d6eb-5bc5-49cf-8944-0833c1978684",
   "metadata": {},
   "source": [
    "We will be using the Helmholtz Equation to show this."
   ]
  },
  {
   "cell_type": "code",
   "execution_count": 1,
   "id": "2a6d5583-5583-4aed-960b-c2a1bdddcb42",
   "metadata": {},
   "outputs": [],
   "source": [
    "import jax\n",
    "import jax.numpy as jnp\n",
    "\n",
    "import optax\n",
    "from flax import linen as nn\n",
    "\n",
    "import sys\n",
    "import os\n",
    "\n",
    "import time\n",
    "import scipy\n",
    "\n",
    "\n",
    "from jaxkan.models.KAN import KAN\n",
    "from jaxkan.utils.PIKAN import *\n",
    "\n",
    "import numpy as np\n",
    "\n",
    "import matplotlib.pyplot as plt"
   ]
  },
  {
   "cell_type": "markdown",
   "id": "2726d02c-0c6c-4e2b-b812-5774531ae006",
   "metadata": {},
   "source": [
    "## Collocation Points"
   ]
  },
  {
   "cell_type": "code",
   "execution_count": 2,
   "id": "09464618-a576-4323-a1f2-8300af3c930d",
   "metadata": {},
   "outputs": [
    {
     "name": "stderr",
     "output_type": "stream",
     "text": [
      "2024-09-21 15:49:02.734143: W external/xla/xla/service/gpu/nvptx_compiler.cc:765] The NVIDIA driver's CUDA version is 12.4 which is older than the ptxas CUDA version (12.6.68). Because the driver is older than the ptxas version, XLA is disabling parallel compilation, which may slow down compilation. You should update your NVIDIA driver or use the NVIDIA-provided CUDA forward compatibility packages.\n"
     ]
    }
   ],
   "source": [
    "# Generate Collocation points for PDE\n",
    "N = 2**12\n",
    "collocs = jnp.array(sobol_sample(np.array([-1,-1]), np.array([1,1]), N)) # (4096, 2)\n",
    "\n",
    "# Generate Collocation points for BCs\n",
    "N = 2**6\n",
    "\n",
    "BC1_colloc = jnp.array(sobol_sample(np.array([-1,-1]), np.array([-1,1]), N)) # (64, 2)\n",
    "BC1_data = jnp.zeros(BC1_colloc.shape[0]).reshape(-1,1) # (64, 1)\n",
    "\n",
    "BC2_colloc = jnp.array(sobol_sample(np.array([-1,-1]), np.array([1,-1]), N)) # (64, 2)\n",
    "BC2_data = jnp.zeros(BC2_colloc.shape[0]).reshape(-1,1) # (64, 1)\n",
    "\n",
    "BC3_colloc = jnp.array(sobol_sample(np.array([1,-1]), np.array([1,1]), N)) # (64, 2)\n",
    "BC3_data = jnp.zeros(BC3_colloc.shape[0]).reshape(-1,1) # (64, 1)\n",
    "\n",
    "BC4_colloc = jnp.array(sobol_sample(np.array([-1,1]), np.array([1,1]), N)) # (64, 2)\n",
    "BC4_data = jnp.zeros(BC4_colloc.shape[0]).reshape(-1,1) # (64, 1)\n",
    "\n",
    "# Create lists for BCs\n",
    "bc_collocs = [BC1_colloc, BC2_colloc, BC3_colloc, BC4_colloc]\n",
    "bc_data = [BC1_data, BC2_data, BC3_data, BC4_data]"
   ]
  },
  {
   "cell_type": "markdown",
   "id": "fa6d6e6f-a362-4d5e-8d1c-4fb9d0445181",
   "metadata": {},
   "source": [
    "### Loss Function"
   ]
  },
  {
   "cell_type": "code",
   "execution_count": 3,
   "id": "01a502e3-1c4d-4086-8d16-745db2cfbb30",
   "metadata": {},
   "outputs": [],
   "source": [
    "def pde_loss(params, collocs, state):\n",
    "    # Eq. parameters\n",
    "    k = jnp.array(1.0, dtype=float)\n",
    "    a1 = jnp.array(1.0, dtype=float)\n",
    "    a2 = jnp.array(4.0, dtype=float)\n",
    "    \n",
    "    # Define the model function\n",
    "    variables = {'params' : params, 'state' : state}\n",
    "    \n",
    "    def u(vec_x):\n",
    "        y, spl = model.apply(variables, vec_x)\n",
    "        return y\n",
    "        \n",
    "    # Physics Loss Terms\n",
    "    u_xx = gradf(u, 0, 2)  # 2nd order derivative of x\n",
    "    u_yy = gradf(u, 1, 2) # 2nd order derivative of y\n",
    "\n",
    "    sines = jnp.sin(a1*jnp.pi*collocs[:,[0]])*jnp.sin(a2*jnp.pi*collocs[:,[1]])\n",
    "    source = -((a1*jnp.pi)**2)*sines - ((a2*jnp.pi)**2)*sines + k*sines\n",
    "    \n",
    "    # Residual\n",
    "    pde_res = u_xx(collocs) + u_yy(collocs) + (k**2)*u(collocs) - source\n",
    "    \n",
    "    return pde_res"
   ]
  },
  {
   "cell_type": "markdown",
   "id": "3da3da60-3011-4385-9fba-d90efb379aed",
   "metadata": {},
   "source": [
    "## Training"
   ]
  },
  {
   "cell_type": "code",
   "execution_count": 4,
   "id": "d2823958-13e4-4d65-91af-8d548a582c9e",
   "metadata": {},
   "outputs": [],
   "source": [
    "# Initialize model\n",
    "layer_dims = [2, 8, 8, 1]\n",
    "model = KAN(layer_dims=layer_dims, k=3, const_spl=False, const_res=False, add_bias=True, grid_e=0.05)\n",
    "variables = model.init(jax.random.PRNGKey(0), jnp.ones([1, 2]))\n",
    "\n",
    "# Define learning rates for scheduler\n",
    "lr_vals = dict()\n",
    "lr_vals['init_lr'] = 0.001\n",
    "lr_vals['scales'] = {0 : 1.0}\n",
    "\n",
    "# Define epochs for grid adaptation\n",
    "adapt_every = 275\n",
    "adapt_stop = 5000\n",
    "grid_adapt = [i * adapt_every for i in range(1, (adapt_stop // adapt_every) + 1)]\n",
    "\n",
    "# Define epochs for grid extension, along with grid sizes\n",
    "grid_extend = {0 : 3}\n",
    "\n",
    "# Define global loss weights\n",
    "glob_w = [jnp.array(1.0, dtype=float), jnp.array(1.0, dtype=float), jnp.array(1.0, dtype=float), jnp.array(1.0, dtype=float), jnp.array(1.0, dtype=float)]\n",
    "\n",
    "# Initialize RBA weights\n",
    "loc_w = [jnp.ones((collocs.shape[0],1)), jnp.ones((BC1_colloc.shape[0],1)),\n",
    "         jnp.ones((BC2_colloc.shape[0],1)), jnp.ones((BC3_colloc.shape[0],1)),\n",
    "         jnp.ones((BC3_colloc.shape[0],1))]"
   ]
  },
  {
   "cell_type": "code",
   "execution_count": 5,
   "id": "e5873060-ccbc-41b9-8fa6-38709794f903",
   "metadata": {},
   "outputs": [
    {
     "name": "stdout",
     "output_type": "stream",
     "text": [
      "Epoch 0: Performing grid update\n",
      "Total Time: 15.160995244979858 s\n",
      "Average time per iteration: 1.5161 s\n"
     ]
    }
   ],
   "source": [
    "num_epochs = 1000\n",
    "\n",
    "model, variables, train_losses = train_PIKAN(model, variables, pde_loss, collocs, bc_collocs, bc_data, glob_w=glob_w, \n",
    "                                             lr_vals=lr_vals, adapt_state=True, loc_w=loc_w, nesterov=True, \n",
    "                                             num_epochs=num_epochs, grid_extend=grid_extend, grid_adapt=grid_adapt, \n",
    "                                             colloc_adapt={'epochs' : []})"
   ]
  },
  {
   "cell_type": "code",
   "execution_count": null,
   "id": "b4d0a5f1-32d4-4769-90a0-f678550b618a",
   "metadata": {},
   "outputs": [],
   "source": []
  },
  {
   "cell_type": "markdown",
   "id": "0bc39286-824c-45e4-b1cc-65bb99e564e6",
   "metadata": {},
   "source": [
    "## Adaptive Collocation Sampling Example"
   ]
  },
  {
   "cell_type": "code",
   "execution_count": null,
   "id": "cae5553b-3754-4809-9fd4-3b869a7fe77c",
   "metadata": {},
   "outputs": [],
   "source": [
    "# Sample M points from Sobol\n",
    "M = 2**16\n",
    "sample = jnp.array(sobol_sample(np.array([0,-1]), np.array([1,1]), M))\n",
    "# Draw k, c hyperparameters\n",
    "k, c = jnp.array(3.0, dtype=float), jnp.array(1.0, dtype=float)"
   ]
  },
  {
   "cell_type": "code",
   "execution_count": null,
   "id": "f908d575-3687-4213-b69a-c2f04d4f3fe2",
   "metadata": {},
   "outputs": [],
   "source": [
    "# Calculate residuals of PDE\n",
    "resids = jnp.abs(pde_loss(variables['params'], sample, variables['state']))\n",
    "# Raise to power k\n",
    "ek = jnp.power(resids, k)\n",
    "# Divide by mean and add c\n",
    "px = (ek/jnp.mean(ek)) + c\n",
    "# Normalize\n",
    "px_norm = (px / jnp.sum(px))[:,0]\n",
    "# Draw ids for the sampled points using px_norm\n",
    "# Note that they key can be added as a function argument, for now there's no reason to\n",
    "X_ids = jax.random.choice(key=jax.random.PRNGKey(0), a=sample.shape[0], shape=(collocs.shape[0],), replace=False, p=px_norm)\n",
    "# Replace collocation points\n",
    "new_collocs = sample[X_ids]"
   ]
  },
  {
   "cell_type": "code",
   "execution_count": null,
   "id": "3b965c9a-0335-4849-ad4d-1cb160737c12",
   "metadata": {},
   "outputs": [],
   "source": [
    "scatter = plt.scatter(sample[:,0], sample[:,1], c=resids, cmap='Spectral_r', s=1)\n",
    "plt.colorbar(scatter)\n",
    "plt.title('PDE Residuals')\n",
    "plt.show()"
   ]
  },
  {
   "cell_type": "code",
   "execution_count": null,
   "id": "ef2034f7-284f-417c-bbdc-54ef972e9f8e",
   "metadata": {},
   "outputs": [],
   "source": [
    "scatter = plt.scatter(new_collocs[:,0], new_collocs[:,1], s=1)\n",
    "plt.title('New collocation points')\n",
    "plt.show()"
   ]
  },
  {
   "cell_type": "code",
   "execution_count": null,
   "id": "63df6a29-f77e-42d6-bd7c-5f2c34200bbd",
   "metadata": {},
   "outputs": [],
   "source": [
    "np.savez('../Plots/data/collocs.npz', sample=sample, resids=resids, collocs=new_collocs)"
   ]
  },
  {
   "cell_type": "code",
   "execution_count": null,
   "id": "81859144-ee13-4dcd-b16a-d75d44ac3b07",
   "metadata": {},
   "outputs": [],
   "source": []
  }
 ],
 "metadata": {
  "kernelspec": {
   "display_name": "Python 3 (ipykernel)",
   "language": "python",
   "name": "python3"
  },
  "language_info": {
   "codemirror_mode": {
    "name": "ipython",
    "version": 3
   },
   "file_extension": ".py",
   "mimetype": "text/x-python",
   "name": "python",
   "nbconvert_exporter": "python",
   "pygments_lexer": "ipython3",
   "version": "3.9.19"
  }
 },
 "nbformat": 4,
 "nbformat_minor": 5
}
