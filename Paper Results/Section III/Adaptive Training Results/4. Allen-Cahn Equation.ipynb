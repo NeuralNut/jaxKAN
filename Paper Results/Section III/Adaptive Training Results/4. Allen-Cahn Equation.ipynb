{
 "cells": [
  {
   "cell_type": "markdown",
   "id": "c17c940a-b7cf-4414-92bc-1dfa87e4b240",
   "metadata": {},
   "source": [
    "# Allen-Cahn Equation"
   ]
  },
  {
   "cell_type": "code",
   "execution_count": 1,
   "id": "25e33609-b37d-436d-b2b0-200577847ded",
   "metadata": {},
   "outputs": [],
   "source": [
    "import jax\n",
    "import jax.numpy as jnp\n",
    "\n",
    "import optax\n",
    "from flax import linen as nn\n",
    "\n",
    "import sys\n",
    "import os\n",
    "\n",
    "import time\n",
    "import scipy\n",
    "\n",
    "from jaxkan.models.KAN import KAN\n",
    "from jaxkan.utils.PIKAN import *\n",
    "\n",
    "import numpy as np\n",
    "\n",
    "import matplotlib.pyplot as plt"
   ]
  },
  {
   "cell_type": "markdown",
   "id": "dca1f133-8abf-44fe-9f98-2cf13efb29ed",
   "metadata": {},
   "source": [
    "### Collocation Points"
   ]
  },
  {
   "cell_type": "code",
   "execution_count": 2,
   "id": "dd634f87-0bea-47ea-834e-5b4b4afa40db",
   "metadata": {},
   "outputs": [],
   "source": [
    "# Generate Collocation points for PDE\n",
    "N = 2**12\n",
    "collocs = jnp.array(sobol_sample(np.array([0,-1]), np.array([1,1]), N)) # (4096, 2)\n",
    "\n",
    "# Generate Collocation points for BCs\n",
    "N = 2**6\n",
    "\n",
    "BC1_colloc = jnp.array(sobol_sample(np.array([0,-1]), np.array([0,1]), N)) # (64, 2)\n",
    "BC1_data = ((BC1_colloc[:,1]**2)*jnp.cos(jnp.pi*BC1_colloc[:,1])).reshape(-1,1)\n",
    "\n",
    "BC2_colloc = jnp.array(sobol_sample(np.array([0,-1]), np.array([1,-1]), N)) # (64, 2)\n",
    "BC2_data = -jnp.ones(BC2_colloc.shape[0]).reshape(-1,1) # (64, 1)\n",
    "\n",
    "BC3_colloc = jnp.array(sobol_sample(np.array([0,1]), np.array([1,1]), N)) # (64, 2)\n",
    "BC3_data = -jnp.ones(BC3_colloc.shape[0]).reshape(-1,1) # (64, 1)\n",
    "\n",
    "# Create lists for BCs\n",
    "bc_collocs = [BC1_colloc, BC2_colloc, BC3_colloc]\n",
    "bc_data = [BC1_data, BC2_data, BC3_data]"
   ]
  },
  {
   "cell_type": "markdown",
   "id": "eefadd88-07ae-407c-88cb-d46dd35158f4",
   "metadata": {},
   "source": [
    "### Loss Function"
   ]
  },
  {
   "cell_type": "code",
   "execution_count": 3,
   "id": "7909b8a2-a88e-495c-9fc3-0be21e2a4c2e",
   "metadata": {},
   "outputs": [],
   "source": [
    "def pde_loss(params, collocs, state):\n",
    "    # Eq. parameter\n",
    "    D = jnp.array(0.001, dtype=float)\n",
    "    c = jnp.array(5.0, dtype=float)\n",
    "    \n",
    "    # Define the model function\n",
    "    variables = {'params' : params, 'state' : state}\n",
    "    \n",
    "    def u(vec_x):\n",
    "        y, spl = model.apply(variables, vec_x)\n",
    "        return y\n",
    "        \n",
    "    # Physics Loss Terms\n",
    "    u_t = gradf(u, 0, 1)  # 1st order derivative of t\n",
    "    u_xx = gradf(u, 1, 2) # 2nd order derivative of x\n",
    "    \n",
    "    # Residual\n",
    "    pde_res = u_t(collocs) - D*u_xx(collocs) - c*(u(collocs)-(u(collocs)**3))\n",
    "    \n",
    "    return pde_res"
   ]
  },
  {
   "cell_type": "markdown",
   "id": "a58c2b06-fd40-4f88-a98d-0fc1fd7eb34e",
   "metadata": {
    "jp-MarkdownHeadingCollapsed": true
   },
   "source": [
    "### Training Baseline"
   ]
  },
  {
   "cell_type": "code",
   "execution_count": 4,
   "id": "0bf038b5-1d07-4dcf-bd0e-86d3e23d54ad",
   "metadata": {},
   "outputs": [],
   "source": [
    "# Initialize model\n",
    "layer_dims = [2, 8, 8, 1]\n",
    "model = KAN(layer_dims=layer_dims, k=3, const_spl=False, const_res=False, add_bias=True, grid_e=0.05)\n",
    "variables = model.init(jax.random.PRNGKey(0), jnp.ones([1, 2]))\n",
    "\n",
    "# Define learning rates for scheduler\n",
    "lr_vals = dict()\n",
    "lr_vals['init_lr'] = 0.001\n",
    "lr_vals['scales'] = {0 : 1.0}\n",
    "\n",
    "# Define epochs for grid extension, along with grid sizes\n",
    "grid_extend = {0 : 3}\n",
    "\n",
    "# Define global loss weights\n",
    "glob_w = [jnp.array(1.0, dtype=float), jnp.array(1.0, dtype=float), jnp.array(1.0, dtype=float), jnp.array(1.0, dtype=float)]"
   ]
  },
  {
   "cell_type": "code",
   "execution_count": 5,
   "id": "be30eb3c-9594-4851-bfad-45f35954b791",
   "metadata": {},
   "outputs": [
    {
     "name": "stdout",
     "output_type": "stream",
     "text": [
      "Epoch 0: Performing grid update\n",
      "Total Time: 476.347861289978 s\n",
      "Average time per iteration: 0.0048 s\n"
     ]
    }
   ],
   "source": [
    "num_epochs = 100000\n",
    "\n",
    "model, variables, train_losses = train_PIKAN(model, variables, pde_loss, collocs, bc_collocs, bc_data, glob_w=glob_w, \n",
    "                                             lr_vals=lr_vals, adapt_state=False, loc_w=None, nesterov=False, \n",
    "                                             num_epochs=num_epochs, grid_extend=grid_extend, grid_adapt=[], \n",
    "                                             colloc_adapt={'epochs' : []})"
   ]
  },
  {
   "cell_type": "code",
   "execution_count": 6,
   "id": "137cdacd-b0ef-4096-b629-60f03d3d723a",
   "metadata": {},
   "outputs": [
    {
     "name": "stdout",
     "output_type": "stream",
     "text": [
      "L^2 Error = 44.4296%\n"
     ]
    }
   ],
   "source": [
    "# Draw reference values\n",
    "ref = scipy.io.loadmat('../../External Data/usol_D_0.001_k_5.mat')\n",
    "\n",
    "N_t, N_x = 101, 201\n",
    "\n",
    "t = np.linspace(0.0, 1.0, N_t)\n",
    "x = np.linspace(-1.0, 1.0, N_x)\n",
    "T, X = np.meshgrid(t, x, indexing='ij')\n",
    "coords = np.stack([T.flatten(), X.flatten()], axis=1)\n",
    "\n",
    "output, _ = model.apply(variables, jnp.array(coords))\n",
    "baseline = np.array(output).reshape(N_t, N_x)\n",
    "\n",
    "l2err = jnp.linalg.norm(baseline-ref['u'])/jnp.linalg.norm(ref['u'])\n",
    "print(f\"L^2 Error = {l2err*100:.4f}%\")"
   ]
  },
  {
   "cell_type": "code",
   "execution_count": 7,
   "id": "6377dd74-ccd8-481e-91b4-25ff7e1e4cc0",
   "metadata": {},
   "outputs": [],
   "source": [
    "np.savez('../../Plots/data/eq4-base.npz', t=t, x=x, baseline=baseline, ref=ref['u'])"
   ]
  },
  {
   "cell_type": "markdown",
   "id": "1c7c47c9-8a93-49b6-a86a-070965573458",
   "metadata": {},
   "source": [
    "### Training Adaptive"
   ]
  },
  {
   "cell_type": "code",
   "execution_count": 8,
   "id": "7832afd8-8bdb-4ab5-9571-f4577e0f0e2e",
   "metadata": {},
   "outputs": [],
   "source": [
    "# Initialize model\n",
    "layer_dims = [2, 8, 8, 1]\n",
    "model = KAN(layer_dims=layer_dims, k=3, const_spl=False, const_res=False, add_bias=True, grid_e=0.05)\n",
    "variables = model.init(jax.random.PRNGKey(0), jnp.ones([1, 2]))\n",
    "\n",
    "# Define learning rates for scheduler\n",
    "lr_vals = dict()\n",
    "lr_vals['init_lr'] = 0.001\n",
    "lr_vals['scales'] = {0 : 1.0, 15_000 : 0.6, 25_000 : 0.8, 50_000 : 0.7, 75_000 : 0.7}\n",
    "\n",
    "# Define epochs for grid adaptation\n",
    "adapt_every = 275\n",
    "adapt_stop = 70000\n",
    "grid_adapt = [i * adapt_every for i in range(1, (adapt_stop // adapt_every) + 1)]\n",
    "\n",
    "# Define epochs for grid extension, along with grid sizes\n",
    "grid_extend = {0 : 3, 8000 : 8, 20_000 : 12}\n",
    "\n",
    "# Define global loss weights\n",
    "glob_w = [jnp.array(1.0, dtype=float), jnp.array(1.0, dtype=float), jnp.array(1.0, dtype=float), jnp.array(1.0, dtype=float)]\n",
    "\n",
    "# Initialize RBA weights\n",
    "loc_w = [jnp.ones((collocs.shape[0],1)), jnp.ones((BC1_colloc.shape[0],1)),\n",
    "         jnp.ones((BC2_colloc.shape[0],1)), jnp.ones((BC3_colloc.shape[0],1))]\n",
    "\n",
    "# Perform adaptive collocation point sampling\n",
    "colloc_adapt = dict({'M' : 2**17, 'k' : jnp.array(1.0, dtype=float), 'c' : jnp.array(1.0, dtype=float)})\n",
    "colloc_adapt['epochs'] = [20_000, 30_000, 40_000, 50_000, 60_000]"
   ]
  },
  {
   "cell_type": "code",
   "execution_count": 9,
   "id": "4c1cecc2-d43d-4383-8814-4ff603f82941",
   "metadata": {},
   "outputs": [
    {
     "name": "stdout",
     "output_type": "stream",
     "text": [
      "Epoch 0: Performing grid update\n",
      "Epoch 8000: Performing grid update\n",
      "Epoch 20000: Performing grid update\n",
      "Total Time: 1211.957454919815 s\n",
      "Average time per iteration: 0.0121 s\n"
     ]
    }
   ],
   "source": [
    "num_epochs = 100000\n",
    "\n",
    "model, variables, train_losses = train_PIKAN(model, variables, pde_loss, collocs, bc_collocs, bc_data, glob_w=glob_w, \n",
    "                                             lr_vals=lr_vals, adapt_state=True, loc_w=loc_w, nesterov=True, \n",
    "                                             num_epochs=num_epochs, grid_extend=grid_extend, grid_adapt=grid_adapt, \n",
    "                                             colloc_adapt=colloc_adapt)"
   ]
  },
  {
   "cell_type": "code",
   "execution_count": 10,
   "id": "d7adc28b-2c5d-484d-b3f0-3fae147fbb4d",
   "metadata": {},
   "outputs": [
    {
     "name": "stdout",
     "output_type": "stream",
     "text": [
      "L^2 Error = 1.4143%\n"
     ]
    }
   ],
   "source": [
    "# Draw reference values\n",
    "ref = scipy.io.loadmat('../../External Data/usol_D_0.001_k_5.mat')\n",
    "\n",
    "N_t, N_x = 101, 201\n",
    "\n",
    "t = np.linspace(0.0, 1.0, N_t)\n",
    "x = np.linspace(-1.0, 1.0, N_x)\n",
    "T, X = np.meshgrid(t, x, indexing='ij')\n",
    "coords = np.stack([T.flatten(), X.flatten()], axis=1)\n",
    "\n",
    "output, _ = model.apply(variables, jnp.array(coords))\n",
    "adaptive = np.array(output).reshape(N_t, N_x)\n",
    "\n",
    "l2err = jnp.linalg.norm(adaptive-ref['u'])/jnp.linalg.norm(ref['u'])\n",
    "print(f\"L^2 Error = {l2err*100:.4f}%\")"
   ]
  },
  {
   "cell_type": "code",
   "execution_count": null,
   "id": "b263ffa3-41f2-407d-a507-b3c3a2f59ac8",
   "metadata": {},
   "outputs": [],
   "source": []
  },
  {
   "cell_type": "markdown",
   "id": "b56790ab-26eb-48ef-a3f5-120cd9fe4c84",
   "metadata": {},
   "source": [
    "### Final Results"
   ]
  },
  {
   "cell_type": "code",
   "execution_count": 11,
   "id": "286f3bf5-7b85-44f7-b3fc-44bae9b6ec6a",
   "metadata": {},
   "outputs": [
    {
     "name": "stdout",
     "output_type": "stream",
     "text": [
      "\n",
      "\u001b[3m                                  KAN Summary                                   \u001b[0m\n",
      "┏━━━━━━━━━━┳━━━━━━━━━━┳━━━━━━━━━━━━━┳━━━━━━━━━━━━━┳━━━━━━━━━━━━━┳━━━━━━━━━━━━━━┓\n",
      "┃\u001b[1m \u001b[0m\u001b[1mpath    \u001b[0m\u001b[1m \u001b[0m┃\u001b[1m \u001b[0m\u001b[1mmodule  \u001b[0m\u001b[1m \u001b[0m┃\u001b[1m \u001b[0m\u001b[1minputs     \u001b[0m\u001b[1m \u001b[0m┃\u001b[1m \u001b[0m\u001b[1moutputs    \u001b[0m\u001b[1m \u001b[0m┃\u001b[1m \u001b[0m\u001b[1mparams     \u001b[0m\u001b[1m \u001b[0m┃\u001b[1m \u001b[0m\u001b[1mstate       \u001b[0m\u001b[1m \u001b[0m┃\n",
      "┡━━━━━━━━━━╇━━━━━━━━━━╇━━━━━━━━━━━━━╇━━━━━━━━━━━━━╇━━━━━━━━━━━━━╇━━━━━━━━━━━━━━┩\n",
      "│          │ KAN      │ \u001b[2mfloat32\u001b[0m[40… │ -           │ bias_0:     │              │\n",
      "│          │          │             │ \u001b[2mfloat32\u001b[0m[40… │ \u001b[2mfloat32\u001b[0m[8]  │              │\n",
      "│          │          │             │ - -         │ bias_1:     │              │\n",
      "│          │          │             │ \u001b[2mfloat32\u001b[0m[8,… │ \u001b[2mfloat32\u001b[0m[8]  │              │\n",
      "│          │          │             │   -         │ bias_2:     │              │\n",
      "│          │          │             │ \u001b[2mfloat32\u001b[0m[8,… │ \u001b[2mfloat32\u001b[0m[1]  │              │\n",
      "│          │          │             │   -         │             │              │\n",
      "│          │          │             │ \u001b[2mfloat32\u001b[0m[1,… │ \u001b[1m17 \u001b[0m\u001b[1;2m(68 B)\u001b[0m   │              │\n",
      "├──────────┼──────────┼─────────────┼─────────────┼─────────────┼──────────────┤\n",
      "│ layers_0 │ KANLayer │ \u001b[2mfloat32\u001b[0m[40… │ -           │ c_basis:    │ grid:        │\n",
      "│          │          │             │ \u001b[2mfloat32\u001b[0m[40… │ \u001b[2mfloat32\u001b[0m[16… │ \u001b[2mfloat32\u001b[0m[16,… │\n",
      "│          │          │             │ -           │ c_res:      │              │\n",
      "│          │          │             │ \u001b[2mfloat32\u001b[0m[8,… │ \u001b[2mfloat32\u001b[0m[16] │ \u001b[1m160 \u001b[0m\u001b[1;2m(640 B)\u001b[0m  │\n",
      "│          │          │             │             │ c_spl:      │              │\n",
      "│          │          │             │             │ \u001b[2mfloat32\u001b[0m[16] │              │\n",
      "│          │          │             │             │             │              │\n",
      "│          │          │             │             │ \u001b[1m128 \u001b[0m\u001b[1;2m(512 B)\u001b[0m │              │\n",
      "├──────────┼──────────┼─────────────┼─────────────┼─────────────┼──────────────┤\n",
      "│ layers_1 │ KANLayer │ \u001b[2mfloat32\u001b[0m[40… │ -           │ c_basis:    │ grid:        │\n",
      "│          │          │             │ \u001b[2mfloat32\u001b[0m[40… │ \u001b[2mfloat32\u001b[0m[64… │ \u001b[2mfloat32\u001b[0m[64,… │\n",
      "│          │          │             │ -           │ c_res:      │              │\n",
      "│          │          │             │ \u001b[2mfloat32\u001b[0m[8,… │ \u001b[2mfloat32\u001b[0m[64] │ \u001b[1m640 \u001b[0m\u001b[1;2m(2.6 KB)\u001b[0m │\n",
      "│          │          │             │             │ c_spl:      │              │\n",
      "│          │          │             │             │ \u001b[2mfloat32\u001b[0m[64] │              │\n",
      "│          │          │             │             │             │              │\n",
      "│          │          │             │             │ \u001b[1m512 \u001b[0m\u001b[1;2m(2.0 \u001b[0m   │              │\n",
      "│          │          │             │             │ \u001b[1;2mKB)\u001b[0m         │              │\n",
      "├──────────┼──────────┼─────────────┼─────────────┼─────────────┼──────────────┤\n",
      "│ layers_2 │ KANLayer │ \u001b[2mfloat32\u001b[0m[40… │ -           │ c_basis:    │ grid:        │\n",
      "│          │          │             │ \u001b[2mfloat32\u001b[0m[40… │ \u001b[2mfloat32\u001b[0m[8,… │ \u001b[2mfloat32\u001b[0m[8,1… │\n",
      "│          │          │             │ -           │ c_res:      │              │\n",
      "│          │          │             │ \u001b[2mfloat32\u001b[0m[1,… │ \u001b[2mfloat32\u001b[0m[8]  │ \u001b[1m80 \u001b[0m\u001b[1;2m(320 B)\u001b[0m   │\n",
      "│          │          │             │             │ c_spl:      │              │\n",
      "│          │          │             │             │ \u001b[2mfloat32\u001b[0m[8]  │              │\n",
      "│          │          │             │             │             │              │\n",
      "│          │          │             │             │ \u001b[1m64 \u001b[0m\u001b[1;2m(256 B)\u001b[0m  │              │\n",
      "├──────────┼──────────┼─────────────┼─────────────┼─────────────┼──────────────┤\n",
      "│\u001b[1m \u001b[0m\u001b[1m        \u001b[0m\u001b[1m \u001b[0m│\u001b[1m \u001b[0m\u001b[1m        \u001b[0m\u001b[1m \u001b[0m│\u001b[1m \u001b[0m\u001b[1m           \u001b[0m\u001b[1m \u001b[0m│\u001b[1m \u001b[0m\u001b[1m      Total\u001b[0m\u001b[1m \u001b[0m│\u001b[1m \u001b[0m\u001b[1m721 \u001b[0m\u001b[1;2m(2.9 \u001b[0m\u001b[1m  \u001b[0m\u001b[1m \u001b[0m│\u001b[1m \u001b[0m\u001b[1m880 \u001b[0m\u001b[1;2m(3.5 KB)\u001b[0m\u001b[1m \u001b[0m│\n",
      "│\u001b[1m          \u001b[0m│\u001b[1m          \u001b[0m│\u001b[1m             \u001b[0m│\u001b[1m             \u001b[0m│\u001b[1m \u001b[0m\u001b[1;2mKB)\u001b[0m\u001b[1m        \u001b[0m\u001b[1m \u001b[0m│\u001b[1m              \u001b[0m│\n",
      "└──────────┴──────────┴─────────────┴─────────────┴─────────────┴──────────────┘\n",
      "\u001b[1m                                                                                \u001b[0m\n",
      "\u001b[1m                        Total Parameters: 1,601 \u001b[0m\u001b[1;2m(6.4 KB)\u001b[0m\u001b[1m                        \u001b[0m\n",
      "\n",
      "\n"
     ]
    }
   ],
   "source": [
    "tabulate_fn = nn.tabulate(model, jax.random.PRNGKey(11))\n",
    "\n",
    "table = tabulate_fn(collocs)\n",
    "print(table)"
   ]
  },
  {
   "cell_type": "code",
   "execution_count": 12,
   "id": "28134e79-a36f-4422-baba-2c50e44b638b",
   "metadata": {},
   "outputs": [
    {
     "data": {
      "image/png": "[encoded data removed]",
      "text/plain": [
       "<Figure size 1000x500 with 2 Axes>"
      ]
     },
     "metadata": {},
     "output_type": "display_data"
    }
   ],
   "source": [
    "plt.figure(figsize=(10, 5))\n",
    "plt.pcolormesh(T, X, np.abs(ref['u']-adaptive), shading='auto', cmap='Spectral_r') #\n",
    "plt.colorbar()\n",
    "\n",
    "plt.title('Absolute Error for Allen-Cahn Equation')\n",
    "plt.xlabel('t')\n",
    "\n",
    "plt.ylabel('x')\n",
    "\n",
    "plt.tight_layout()\n",
    "plt.show()"
   ]
  },
  {
   "cell_type": "code",
   "execution_count": 13,
   "id": "82f7250a-d6a7-466a-a1c4-5b908be6182d",
   "metadata": {},
   "outputs": [],
   "source": [
    "np.savez('../../Plots/data/eq4-adapt.npz', t=t, x=x, adaptive=adaptive, ref=ref['u'])"
   ]
  },
  {
   "cell_type": "code",
   "execution_count": null,
   "id": "3ef65e4b-bb26-475d-b07c-bbca6df50d65",
   "metadata": {},
   "outputs": [],
   "source": []
  }
 ],
 "metadata": {
  "kernelspec": {
   "display_name": "Python 3 (ipykernel)",
   "language": "python",
   "name": "python3"
  },
  "language_info": {
   "codemirror_mode": {
    "name": "ipython",
    "version": 3
   },
   "file_extension": ".py",
   "mimetype": "text/x-python",
   "name": "python",
   "nbconvert_exporter": "python",
   "pygments_lexer": "ipython3",
   "version": "3.10.12"
  }
 },
 "nbformat": 4,
 "nbformat_minor": 5
}
